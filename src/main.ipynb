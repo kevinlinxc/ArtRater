{
 "cells": [
  {
   "cell_type": "markdown",
   "metadata": {
    "pycharm": {
     "name": "#%% md\n"
    }
   },
   "source": [
    "## 1. Imports"
   ]
  },
  {
   "cell_type": "code",
   "execution_count": 2,
   "metadata": {
    "pycharm": {
     "name": "#%%\n"
    }
   },
   "outputs": [],
   "source": [
    "import tensorflow as tf\n",
    "from PIL.Image import DecompressionBombError\n",
    "import matplotlib.pyplot as plt\n",
    "import json\n",
    "import numpy as np\n",
    "import cv2\n",
    "import praw,requests\n",
    "import psaw\n",
    "import datetime as dt\n",
    "import os\n",
    "import sys\n",
    "from tensorflow.keras import models\n",
    "from tensorflow.keras import layers\n",
    "from tensorflow.keras import optimizers\n",
    "import random"
   ]
  },
  {
   "cell_type": "markdown",
   "metadata": {
    "pycharm": {
     "name": "#%% md\n"
    }
   },
   "source": [
    "## 2. Functions"
   ]
  },
  {
   "cell_type": "code",
   "execution_count": 25,
   "metadata": {
    "pycharm": {
     "name": "#%%\n"
    }
   },
   "outputs": [],
   "source": [
    "#Checks if two images are identical, returns true if they are, returns true if a file is blank\n",
    "def compare2images(original,duplicate):\n",
    "    if original is None or duplicate is None:\n",
    "        return True #delete emtpy pictures\n",
    "    if original.shape == duplicate.shape:\n",
    "        #print(\"The images have same size and channels\")\n",
    "        difference = cv2.subtract(original, duplicate)\n",
    "        b, g, r = cv2.split(difference)\n",
    "        if cv2.countNonZero(b) == 0 and cv2.countNonZero(g) == 0 and cv2.countNonZero(r) == 0:\n",
    "            return True\n",
    "        else:\n",
    "            return False\n",
    "    else:\n",
    "        return False\n",
    "\n",
    "#A simple progress bar for transparency on the 20000 image processing tasks\n",
    "def progress(purpose,currentcount, maxcount):\n",
    "    sys.stdout.write('\\r')\n",
    "    sys.stdout.write(\"{}: {:.1f}%\".format(purpose,(100/(maxcount-1)*currentcount)))\n",
    "    sys.stdout.flush()\n",
    "\n",
    "#custom image data generator following this example https://www.pyimagesearch.com/2018/12/24/how-to-use-keras-fit-and-fit_generator-a-hands-on-tutorial/\n",
    "def custom_file_image_generator(inputPath,bs,mode=\"train\",aug=None, max = 1, frompath=\"picsnew\"):\n",
    "    f = open(inputPath, \"r\")\n",
    "    while True:\n",
    "        images = []\n",
    "        labels = []\n",
    "        while len(images)<bs:\n",
    "            line = f.readline()\n",
    "            if line == \"\":\n",
    "                f.seek(0)\n",
    "                line = f.readline()\n",
    "                # if we are evaluating we should now break from our\n",
    "                # loop to ensure we don't continue to fill up the\n",
    "                # batch from samples at the beginning of the file\n",
    "                if mode == \"eval\":\n",
    "                    break\n",
    "            label = int(line.split(\".\")[0].split(\"_\")[0])\n",
    "            stripped = line.strip('\\n')\n",
    "            image = plt.imread(f\"{frompath}{stripped}\")\n",
    "            #Removes alpha channel\n",
    "            image = np.float32(image)[:,:,:3]\n",
    "            #Neceesary resizing to avoid PIL pixel cap\n",
    "            while image.shape[0] * image.shape[1]>89478485:\n",
    "                image = cv2.resize(image, (0,0), fx=0.5, fy=0.5)\n",
    "            cv2.cvtColor(image,cv2.COLOR_RGB2BGR)\n",
    "            images.append(image)\n",
    "            labels.append(label/max)\n",
    "        labels = np.asarray(labels).T\n",
    "        yield(np.asarray(images),labels)"
   ]
  },
  {
   "cell_type": "markdown",
   "metadata": {
    "pycharm": {
     "name": "#%% md\n"
    }
   },
   "source": [
    "## 3. Set up Reddit api for downloading images"
   ]
  },
  {
   "cell_type": "code",
   "execution_count": 4,
   "metadata": {
    "pycharm": {
     "name": "#%%\n"
    }
   },
   "outputs": [],
   "source": [
    "#Set up API keys from .gitignored file\n",
    "with open('config.json') as config_file:\n",
    "    config = json.load(config_file)['keys']\n",
    "\n",
    "# Sign into Reddit using API Key\n",
    "reddit = praw.Reddit(user_agent=\"Downloading images from r/art for a machine learning project\",\n",
    "                     client_id=config['client_id'],\n",
    "                     client_secret=config['client_secret'],\n",
    "                     username=config['username'],\n",
    "                     password=config['password'])"
   ]
  },
  {
   "cell_type": "markdown",
   "metadata": {
    "pycharm": {
     "name": "#%% md\n"
    }
   },
   "source": [
    "## 4. Downloading pictures from Reddit r/art using PSAW and PRAW"
   ]
  },
  {
   "cell_type": "code",
   "execution_count": null,
   "metadata": {
    "pycharm": {
     "name": "#%%\n"
    }
   },
   "outputs": [],
   "source": [
    "#187mb for 200 pics, approx 18.7gb for 20000\n",
    "#Time periods to choose to download from\n",
    "Jan12018 = int(dt.datetime(2018,1,1).timestamp())\n",
    "Jan12019 = int(dt.datetime(2019,1,1).timestamp())\n",
    "Jan12020 = int(dt.datetime(2020,1,1).timestamp())\n",
    "Jan12021 = int(dt.datetime(2021,1,1).timestamp())\n",
    "\n",
    "#Pass a PRAW instance into PSAW so that scores are available\n",
    "api = psaw.PushshiftAPI(reddit)\n",
    "#Number of posts to try and download\n",
    "n = 30000\n",
    "#Path to download to\n",
    "dlpath = \"pics2/\"\n",
    "\n",
    "print(\"Looking for posts using Pushshift...\")\n",
    "#this step takes a while\n",
    "posts = list(api.search_submissions(after = Jan12019, before=Jan12020, subreddit='art', limit = n*10))\n",
    "numpostsfound = len(posts)\n",
    "print(f\"Number of posts found:  {numpostsfound}\")\n",
    "counter = 0\n",
    "\n",
    "for post in posts:\n",
    "    if post.score>1:\n",
    "        progress(\"Downloading\",counter,numpostsfound)\n",
    "        counter +=1\n",
    "        url = (post.url)\n",
    "        #Save score for ML training, and post id for unique file names\n",
    "        file_name = str(post.score) + \"_\" + str(post.id) + \".jpg\"\n",
    "        try:\n",
    "            #use requests to get image\n",
    "            r = requests.get(url)\n",
    "            fullfilename = dlpath + file_name\n",
    "            #save image\n",
    "            with open(fullfilename,\"wb\") as f:\n",
    "                f.write(r.content)\n",
    "        except (\n",
    "            requests.ConnectionError,\n",
    "            requests.exceptions.ReadTimeout,\n",
    "            requests.exceptions.Timeout,\n",
    "            requests.exceptions.ConnectTimeout,\n",
    "        ) as e:\n",
    "            print(e)\n",
    "            \n",
    "files = [f for f in os.listdir(dlpath) if os.path.isfile(os.path.join(dlpath, f))]\n",
    "#Number of files downloaded not always the same as requested due to connection errors\n",
    "print(f'\\nNumber of files downloaded: {len(files)}')"
   ]
  },
  {
   "cell_type": "markdown",
   "metadata": {},
   "source": [
    "## 5. Processing code that removes pictures that are deleted/corrupt\n",
    "Might need to run multiple times if low on ram"
   ]
  },
  {
   "cell_type": "code",
   "execution_count": 7,
   "metadata": {
    "pycharm": {
     "name": "#%%\n"
    }
   },
   "outputs": [
    {
     "name": "stdout",
     "output_type": "stream",
     "text": [
      "Original Number of files: 11377\n",
      "Deleting bad files: 100.0%\n",
      "Final Number of files: 11364\n"
     ]
    }
   ],
   "source": [
    "#Path to delete bad pictures from\n",
    "path = \"pics2/\"\n",
    "\n",
    "files = [f for f in os.listdir(path) if os.path.isfile(os.path.join(path, f))]\n",
    "cull = []\n",
    "counter = 0\n",
    "length = len(files)\n",
    "print(f\"Original Number of files: {length}\")\n",
    "#Template of a bad picture\n",
    "deletedtemplate = cv2.imread(\"exampledeleted.jpg\")\n",
    "deletedtemplate2 = cv2.imread(\"exampledeleted2.jpg\")\n",
    "for file in files:\n",
    "    progress(\"Deleting bad files\",counter,length)\n",
    "    counter+=1\n",
    "    fullfilename = path + file\n",
    "    candidate = cv2.imread(fullfilename)\n",
    "    #if it's the same picture as the template or the picture is None\n",
    "    if compare2images(deletedtemplate,candidate) or compare2images(deletedtemplate2,candidate):\n",
    "        #delete\n",
    "        os.remove(fullfilename)\n",
    "files2 = [f for f in os.listdir(path) if os.path.isfile(os.path.join(path, f))]\n",
    "print(f\"\\nFinal Number of files: {len(files2)}\")"
   ]
  },
  {
   "cell_type": "markdown",
   "metadata": {
    "pycharm": {
     "name": "#%% md\n"
    }
   },
   "source": [
    "## 6. Preprocessing code that corrects grayscale images to RGB and rescales pictures to have maximum width or height of 1000\n",
    "If I ran nn training with large images, it would take too long, and if I ran on google colab,\n",
    "I wouldn't have the drive space for all the pictrues"
   ]
  },
  {
   "cell_type": "code",
   "execution_count": null,
   "metadata": {
    "pycharm": {
     "name": "#%%\n"
    }
   },
   "outputs": [],
   "source": [
    "#Path being read from\n",
    "path = 'pics2/'\n",
    "#Path writing to\n",
    "path2 = 'picsfix/'\n",
    "files = [f for f in os.listdir(path) if os.path.isfile(os.path.join(path, f))]\n",
    "length = len(files)\n",
    "counter = 0\n",
    "failures = []\n",
    "for file in files:\n",
    "    try:\n",
    "        progress(\"Resizing and fixing pictures\",counter,length)\n",
    "        #OpenCV doesn't open jpegs\n",
    "        img = plt.imread(f'{path}{file}')\n",
    "        if len(img.shape) <3:\n",
    "            # print(file)\n",
    "            # print(img.shape)\n",
    "            img= cv2.cvtColor(img,cv2.COLOR_GRAY2RGB)\n",
    "            #Resize to 1000 max\n",
    "        largestdim = max(img.shape)\n",
    "        targetlargestdim = 1000\n",
    "        scaling= targetlargestdim / largestdim\n",
    "        #print(scaling)\n",
    "        if(scaling<1): #If image is already smaller, don't bother upscaling\n",
    "            smaller = cv2.resize(img, (0,0), fx=scaling, fy=scaling)\n",
    "        else:\n",
    "            smaller = img\n",
    "        filename = path2+file\n",
    "        plt.imsave(filename,smaller)\n",
    "        counter += 1\n",
    "    except DecompressionBombError as e:\n",
    "        print(file)\n",
    "        print(\"Decomp error\")\n",
    "print(\"\\ndone\")"
   ]
  },
  {
   "cell_type": "markdown",
   "metadata": {},
   "source": [
    "## 7. Plot histogram of scores to see how bad the bias towards lower scores is"
   ]
  },
  {
   "cell_type": "code",
   "execution_count": 11,
   "metadata": {
    "pycharm": {
     "name": "#%%\n"
    }
   },
   "outputs": [
    {
     "data": {
      "image/png": "[encoded data removed]",
      "text/plain": [
       "<Figure size 432x288 with 1 Axes>"
      ]
     },
     "metadata": {
      "needs_background": "light"
     },
     "output_type": "display_data"
    }
   ],
   "source": [
    "path = \"picsfix2\"\n",
    "files = [f for f in os.listdir(path) if os.path.isfile(os.path.join(path, f))]\n",
    "numpics = len(files)\n",
    "labelsall = []\n",
    "for file in files:\n",
    "    labelsall.append(int(file.split(\".\")[0].split(\"_\")[0]))\n",
    "#print(labelsall)\n",
    "plt.hist(labelsall)\n",
    "plt.yscale(\"log\")\n",
    "plt.ylabel(\"Frequency\")\n",
    "plt.xlabel(\"Score\")\n",
    "plt.title(\"Post score distribution, log scale\")\n",
    "plt.show()"
   ]
  },
  {
   "cell_type": "markdown",
   "metadata": {},
   "source": [
    "## 7. Split files into training and testing sets and write the names of files to txt files\n",
    "I'm following [this guide](https://www.pyimagesearch.com/2018/12/24/how-to-use-keras-fit-and-fit_generator-a-hands-on-tutorial/)\n",
    "and using a file reader to reset the index to 0 seemed like the easiest solution to mimic what the author set up."
   ]
  },
  {
   "cell_type": "code",
   "execution_count": 12,
   "metadata": {
    "pycharm": {
     "name": "#%%\n"
    }
   },
   "outputs": [],
   "source": [
    "#Path of pictures to split and write txts for\n",
    "path = \"picsfix2/\"\n",
    "trainingpath = \"training.txt\"\n",
    "testingpath = \"testing.txt\"\n",
    "files = [f for f in os.listdir(path) if os.path.isfile(os.path.join(path, f))]\n",
    "#randomize to avoid passing pictures to the neural net in alphabetical order\n",
    "random.shuffle(files)\n",
    "#print(files)\n",
    "trainindex = int(np.round(0.8 * len(files)))\n",
    "training = files[0:trainindex]\n",
    "testing = files[trainindex:]\n",
    "with open(trainingpath, 'w') as f:\n",
    "    for item in training:\n",
    "        f.write(\"%s\\n\" % item)\n",
    "with open(testingpath, 'w') as f:\n",
    "    for item in testing:\n",
    "        f.write(\"%s\\n\" % item)"
   ]
  },
  {
   "cell_type": "markdown",
   "metadata": {
    "pycharm": {
     "name": "#%% md\n"
    }
   },
   "source": [
    "## 8. Actual neural net training using Convolutional Neural Net\n",
    "I didn't have enough ram to train locally, so I ended porting to Google Colab and training there.\n",
    "The trainin has not been succesful so far, and I haven't taken the time to diagnose why yet."
   ]
  },
  {
   "cell_type": "code",
   "execution_count": null,
   "metadata": {
    "pycharm": {
     "name": "#%%\n"
    }
   },
   "outputs": [
    {
     "name": "stdout",
     "output_type": "stream",
     "text": [
      "Highest score: 54157\n",
      "Epoch 1/12\n",
      " 1443/14918 [=>............................] - ETA: 1:37:21 - loss: 0.0014 - acc: 0.0049"
     ]
    }
   ],
   "source": [
    "#Path of preprocessed pictures\n",
    "path = \"picsfix2/\"\n",
    "#Paths of training and testing txts that have file names\n",
    "trainPath = 'training.txt'\n",
    "testpath = 'testing.txt'\n",
    "#Get all file names\n",
    "files = [f for f in os.listdir(path) if os.path.isfile(os.path.join(path, f))]\n",
    "numpics = len(files)\n",
    "labelsall = []\n",
    "for file in files:\n",
    "    labelsall.append(int(file.split(\".\")[0].split(\"_\")[0]))\n",
    "highestScore = max(labelsall)\n",
    "print(f'Highest score: {highestScore}')\n",
    "\n",
    "\n",
    "#Store all image arrays and image names in a list\n",
    "input_shape=(None, None,3)\n",
    "\n",
    "NUM_EPOCHS = 12\n",
    "BS = 1\n",
    "NUM_TRAIN_IMAGES = int(np.round(0.8 * len(files)))\n",
    "NUM_TEST_IMAGES = len(files)-NUM_TRAIN_IMAGES\n",
    "traingen = custom_file_image_generator(trainPath,BS, \"train\" , None,highestScore, path)\n",
    "testgen = custom_file_image_generator(testpath,BS, \"train\", None,highestScore, path)\n",
    "tf.keras.backend.clear_session()\n",
    "conv_model = models.Sequential()\n",
    "#normalize pictures to [0 1]\n",
    "conv_model.add(layers.experimental.preprocessing.Rescaling(1./255))\n",
    "conv_model.add(layers.Conv2D(32, (3, 3), activation='relu',\n",
    "                             input_shape=input_shape))\n",
    "conv_model.add(layers.GlobalMaxPooling2D())\n",
    "# conv_model.add(layers.Conv2D(64, (3, 3), activation='relu'))\n",
    "# conv_model.add(layers.MaxPooling2D(pool_size=(2, 2)))\n",
    "conv_model.add(layers.Flatten())\n",
    "#conv_model.add(layers.Dropout(0.2))\n",
    "conv_model.add(layers.Dense(512, activation='relu'))\n",
    "conv_model.add(layers.Dense(1, activation='linear'))\n",
    "LEARNING_RATE = 1e-4\n",
    "conv_model.compile(loss=tf.keras.losses.MeanSquaredError(),\n",
    "                   optimizer=optimizers.RMSprop(lr=LEARNING_RATE),\n",
    "                   metrics=['acc'])\n",
    "history_conv = conv_model.fit(traingen,\n",
    "                                steps_per_epoch= NUM_TRAIN_IMAGES // BS,\n",
    "                                validation_data=testgen,\n",
    "                                validation_steps = NUM_TEST_IMAGES // BS,\n",
    "                              epochs=NUM_EPOCHS)\n",
    "modelfilename = 'art2.h5'\n",
    "conv_model.save(modelfilename)\n",
    "# plt.plot(history_conv.history['loss'])\n",
    "# plt.plot(history_conv.history['val_loss'])\n",
    "# plt.title('model loss')\n",
    "# plt.ylabel('loss')\n",
    "# plt.xlabel('epoch')\n",
    "# plt.legend(['train loss', 'val loss'], loc='upper right')\n",
    "# plt.show()\n",
    "#\n",
    "#\n",
    "# plt.plot(history_conv.history['acc'])\n",
    "# plt.plot(history_conv.history['val_acc'])\n",
    "# plt.title('model accuracy')\n",
    "# plt.ylabel('accuracy (%)')\n",
    "# plt.xlabel('epoch')\n",
    "# plt.legend(['train accuracy', 'val accuracy'], loc='lower right')\n",
    "# plt.show()\n"
   ]
  },
  {
   "cell_type": "code",
   "execution_count": null,
   "metadata": {},
   "outputs": [],
   "source": []
  }
 ],
 "metadata": {
  "kernelspec": {
   "display_name": "Python 3",
   "language": "python",
   "name": "python3"
  },
  "language_info": {
   "codemirror_mode": {
    "name": "ipython",
    "version": 3
   },
   "file_extension": ".py",
   "mimetype": "text/x-python",
   "name": "python",
   "nbconvert_exporter": "python",
   "pygments_lexer": "ipython3",
   "version": "3.7.7"
  }
 },
 "nbformat": 4,
 "nbformat_minor": 1
}
